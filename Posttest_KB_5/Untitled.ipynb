{
 "cells": [
  {
   "cell_type": "markdown",
   "id": "9911f22a",
   "metadata": {},
   "source": [
    "## POST TEST 5 SUPERVISED LEARNING\n",
    "## Erman Parni Simanjuntak\n",
    "## 2009106046\n",
    "\n",
    "## Import Library"
   ]
  },
  {
   "cell_type": "code",
   "execution_count": 28,
   "id": "22a91ca5",
   "metadata": {},
   "outputs": [],
   "source": [
    "import pandas as pd\n",
    "import seaborn as sns"
   ]
  },
  {
   "cell_type": "code",
   "execution_count": 29,
   "id": "15e7ed44",
   "metadata": {},
   "outputs": [
    {
     "data": {
      "text/html": [
       "<div>\n",
       "<style scoped>\n",
       "    .dataframe tbody tr th:only-of-type {\n",
       "        vertical-align: middle;\n",
       "    }\n",
       "\n",
       "    .dataframe tbody tr th {\n",
       "        vertical-align: top;\n",
       "    }\n",
       "\n",
       "    .dataframe thead th {\n",
       "        text-align: right;\n",
       "    }\n",
       "</style>\n",
       "<table border=\"1\" class=\"dataframe\">\n",
       "  <thead>\n",
       "    <tr style=\"text-align: right;\">\n",
       "      <th></th>\n",
       "      <th>Unnamed: 0.1</th>\n",
       "      <th>Unnamed: 0</th>\n",
       "      <th>Rank</th>\n",
       "      <th>Name</th>\n",
       "      <th>Platform</th>\n",
       "      <th>Year</th>\n",
       "      <th>Genre</th>\n",
       "      <th>Publisher</th>\n",
       "      <th>NA_Sales</th>\n",
       "      <th>EU_Sales</th>\n",
       "      <th>JP_Sales</th>\n",
       "      <th>Other_Sales</th>\n",
       "      <th>Global_Sales</th>\n",
       "    </tr>\n",
       "  </thead>\n",
       "  <tbody>\n",
       "    <tr>\n",
       "      <th>0</th>\n",
       "      <td>0</td>\n",
       "      <td>0</td>\n",
       "      <td>1.0</td>\n",
       "      <td>Wii Sports</td>\n",
       "      <td>Wii</td>\n",
       "      <td>2006.0</td>\n",
       "      <td>Sports</td>\n",
       "      <td>Wii Sports</td>\n",
       "      <td>41.49</td>\n",
       "      <td>29.02</td>\n",
       "      <td>3.77</td>\n",
       "      <td>11008.0</td>\n",
       "      <td>29.02</td>\n",
       "    </tr>\n",
       "    <tr>\n",
       "      <th>1</th>\n",
       "      <td>1</td>\n",
       "      <td>1</td>\n",
       "      <td>2.0</td>\n",
       "      <td>Super Mario Bros.</td>\n",
       "      <td>NES</td>\n",
       "      <td>1985.0</td>\n",
       "      <td>Platform</td>\n",
       "      <td>Super Mario Bros.</td>\n",
       "      <td>29.08</td>\n",
       "      <td>3.58</td>\n",
       "      <td>6.81</td>\n",
       "      <td>9329.0</td>\n",
       "      <td>3.58</td>\n",
       "    </tr>\n",
       "    <tr>\n",
       "      <th>2</th>\n",
       "      <td>2</td>\n",
       "      <td>2</td>\n",
       "      <td>3.0</td>\n",
       "      <td>Mario Kart Wii</td>\n",
       "      <td>Wii</td>\n",
       "      <td>2008.0</td>\n",
       "      <td>Racing</td>\n",
       "      <td>Mario Kart Wii</td>\n",
       "      <td>15.85</td>\n",
       "      <td>12.88</td>\n",
       "      <td>3.79</td>\n",
       "      <td>5574.0</td>\n",
       "      <td>12.88</td>\n",
       "    </tr>\n",
       "    <tr>\n",
       "      <th>3</th>\n",
       "      <td>3</td>\n",
       "      <td>3</td>\n",
       "      <td>4.0</td>\n",
       "      <td>Wii Sports Resort</td>\n",
       "      <td>Wii</td>\n",
       "      <td>2009.0</td>\n",
       "      <td>Sports</td>\n",
       "      <td>Wii Sports Resort</td>\n",
       "      <td>15.75</td>\n",
       "      <td>11.01</td>\n",
       "      <td>3.28</td>\n",
       "      <td>11010.0</td>\n",
       "      <td>11.01</td>\n",
       "    </tr>\n",
       "    <tr>\n",
       "      <th>4</th>\n",
       "      <td>4</td>\n",
       "      <td>4</td>\n",
       "      <td>5.0</td>\n",
       "      <td>Pokemon Red/Pokemon Blue</td>\n",
       "      <td>GB</td>\n",
       "      <td>1996.0</td>\n",
       "      <td>Role-Playing</td>\n",
       "      <td>Pokemon Red/Pokemon Blue</td>\n",
       "      <td>11.27</td>\n",
       "      <td>8.89</td>\n",
       "      <td>10.22</td>\n",
       "      <td>7361.0</td>\n",
       "      <td>8.89</td>\n",
       "    </tr>\n",
       "  </tbody>\n",
       "</table>\n",
       "</div>"
      ],
      "text/plain": [
       "   Unnamed: 0.1  Unnamed: 0  Rank                      Name Platform    Year  \\\n",
       "0             0           0   1.0                Wii Sports      Wii  2006.0   \n",
       "1             1           1   2.0         Super Mario Bros.      NES  1985.0   \n",
       "2             2           2   3.0            Mario Kart Wii      Wii  2008.0   \n",
       "3             3           3   4.0         Wii Sports Resort      Wii  2009.0   \n",
       "4             4           4   5.0  Pokemon Red/Pokemon Blue       GB  1996.0   \n",
       "\n",
       "          Genre                 Publisher  NA_Sales  EU_Sales  JP_Sales  \\\n",
       "0        Sports                Wii Sports     41.49     29.02      3.77   \n",
       "1      Platform         Super Mario Bros.     29.08      3.58      6.81   \n",
       "2        Racing            Mario Kart Wii     15.85     12.88      3.79   \n",
       "3        Sports         Wii Sports Resort     15.75     11.01      3.28   \n",
       "4  Role-Playing  Pokemon Red/Pokemon Blue     11.27      8.89     10.22   \n",
       "\n",
       "   Other_Sales  Global_Sales  \n",
       "0      11008.0         29.02  \n",
       "1       9329.0          3.58  \n",
       "2       5574.0         12.88  \n",
       "3      11010.0         11.01  \n",
       "4       7361.0          8.89  "
      ]
     },
     "execution_count": 29,
     "metadata": {},
     "output_type": "execute_result"
    }
   ],
   "source": [
    "df = pd.read_csv(\"vgsales.csv\")\n",
    "df.head()"
   ]
  },
  {
   "cell_type": "markdown",
   "id": "f8a354ea",
   "metadata": {},
   "source": [
    "## Menentukan kolom Platfrom menjadi patokan nilai"
   ]
  },
  {
   "cell_type": "code",
   "execution_count": 30,
   "id": "bf37066c",
   "metadata": {},
   "outputs": [
    {
     "data": {
      "text/plain": [
       "array(['Wii', 'NES', 'GB', 'DS', 'X360', 'PS3', 'PS2', 'SNES', 'GBA',\n",
       "       '3DS', 'PS4', 'N64', 'PS', 'XB', 'PC', '2600', 'PSP', 'XOne', 'GC',\n",
       "       'WiiU', 'GEN', 'No Platform', 'DC', 'PSV', 'SAT', 'SCD', 'WS',\n",
       "       'NG', 'TG16', '2007', '3DO', 'GG', '2010', 'PCFX'], dtype=object)"
      ]
     },
     "execution_count": 30,
     "metadata": {},
     "output_type": "execute_result"
    }
   ],
   "source": [
    "df['Platform'].unique()"
   ]
  },
  {
   "cell_type": "markdown",
   "id": "da02aa00",
   "metadata": {},
   "source": [
    "## Data Splitting"
   ]
  },
  {
   "cell_type": "code",
   "execution_count": 31,
   "id": "c57349cd",
   "metadata": {},
   "outputs": [],
   "source": [
    "X = df[[\"NA_Sales\",\"EU_Sales\", \"JP_Sales\", \"Other_Sales\", \"Global_Sales\"]]\n",
    "Y = df['Platform']"
   ]
  },
  {
   "cell_type": "code",
   "execution_count": 32,
   "id": "f07c711b",
   "metadata": {},
   "outputs": [],
   "source": [
    "from sklearn.model_selection import train_test_split"
   ]
  },
  {
   "cell_type": "markdown",
   "id": "e2ac635e",
   "metadata": {},
   "source": [
    "#### Test Size 20% dari dataset, random state=0 agar data yang diambil tidak diambil secara acak"
   ]
  },
  {
   "cell_type": "code",
   "execution_count": 33,
   "id": "e4bf799e",
   "metadata": {},
   "outputs": [],
   "source": [
    "X_train, X_test, Y_train, Y_test = train_test_split(X,Y, test_size=0.2, random_state=0)"
   ]
  },
  {
   "cell_type": "markdown",
   "id": "65fddc3b",
   "metadata": {},
   "source": [
    "## Algoritma untuk membandingkan score/hasil terbaiknya."
   ]
  },
  {
   "cell_type": "markdown",
   "id": "07b6d416",
   "metadata": {},
   "source": [
    "### Algoritma Naive Bayes"
   ]
  },
  {
   "cell_type": "code",
   "execution_count": 34,
   "id": "cab4fddc",
   "metadata": {},
   "outputs": [],
   "source": [
    "from sklearn.naive_bayes import GaussianNB\n",
    "from sklearn.metrics import accuracy_score"
   ]
  },
  {
   "cell_type": "code",
   "execution_count": 35,
   "id": "1e98dc4a",
   "metadata": {},
   "outputs": [],
   "source": [
    "G = GaussianNB().fit(X_train, Y_train)"
   ]
  },
  {
   "cell_type": "code",
   "execution_count": 36,
   "id": "420651de",
   "metadata": {},
   "outputs": [],
   "source": [
    "Gpredict = G.predict(X_test)"
   ]
  },
  {
   "cell_type": "code",
   "execution_count": 37,
   "id": "1a98eb5a",
   "metadata": {},
   "outputs": [
    {
     "name": "stdout",
     "output_type": "stream",
     "text": [
      "Akurasi dari Gaussian Naive Bayes :\n"
     ]
    },
    {
     "data": {
      "text/plain": [
       "0.06746987951807229"
      ]
     },
     "execution_count": 37,
     "metadata": {},
     "output_type": "execute_result"
    }
   ],
   "source": [
    "print(\"Akurasi dari Gaussian Naive Bayes :\")\n",
    "accuracy_score(Gpredict, Y_test)"
   ]
  },
  {
   "cell_type": "markdown",
   "id": "0446a24d",
   "metadata": {},
   "source": [
    "###  Algoritma Support Vector Machine (SVM)"
   ]
  },
  {
   "cell_type": "code",
   "execution_count": 46,
   "id": "4c65a0e5",
   "metadata": {},
   "outputs": [],
   "source": [
    "from sklearn.svm import SVC"
   ]
  },
  {
   "cell_type": "code",
   "execution_count": 47,
   "id": "629e8067",
   "metadata": {},
   "outputs": [],
   "source": [
    "SVC = SVC().fit(X_train, Y_train)\n",
    "SVC_predict = SVC.predict(X_test)"
   ]
  },
  {
   "cell_type": "code",
   "execution_count": 49,
   "id": "c0da9c73",
   "metadata": {},
   "outputs": [
    {
     "name": "stdout",
     "output_type": "stream",
     "text": [
      "Akurasi Training pada SVM : 0.13292664557915349\n",
      "Akurasi Test pada SVM : 0.1328313253012048\n"
     ]
    }
   ],
   "source": [
    "print(f'Akurasi Training pada SVM : {SVC.score(X_train, Y_train)}')\n",
    "print(f'Akurasi Test pada SVM : {SVC.score(X_test, Y_test)}')"
   ]
  },
  {
   "cell_type": "markdown",
   "id": "0d4b43e9",
   "metadata": {},
   "source": [
    "### Algoritma K-Nearest Neighbor"
   ]
  },
  {
   "cell_type": "code",
   "execution_count": 50,
   "id": "1cffea36",
   "metadata": {},
   "outputs": [],
   "source": [
    "from sklearn.neighbors import KNeighborsClassifier"
   ]
  },
  {
   "cell_type": "code",
   "execution_count": 51,
   "id": "c3f5f9d9",
   "metadata": {},
   "outputs": [],
   "source": [
    "KNN = KNeighborsClassifier(n_neighbors = 5)"
   ]
  },
  {
   "cell_type": "code",
   "execution_count": 52,
   "id": "eadb4b2b",
   "metadata": {},
   "outputs": [
    {
     "data": {
      "text/html": [
       "<style>#sk-container-id-1 {color: black;background-color: white;}#sk-container-id-1 pre{padding: 0;}#sk-container-id-1 div.sk-toggleable {background-color: white;}#sk-container-id-1 label.sk-toggleable__label {cursor: pointer;display: block;width: 100%;margin-bottom: 0;padding: 0.3em;box-sizing: border-box;text-align: center;}#sk-container-id-1 label.sk-toggleable__label-arrow:before {content: \"▸\";float: left;margin-right: 0.25em;color: #696969;}#sk-container-id-1 label.sk-toggleable__label-arrow:hover:before {color: black;}#sk-container-id-1 div.sk-estimator:hover label.sk-toggleable__label-arrow:before {color: black;}#sk-container-id-1 div.sk-toggleable__content {max-height: 0;max-width: 0;overflow: hidden;text-align: left;background-color: #f0f8ff;}#sk-container-id-1 div.sk-toggleable__content pre {margin: 0.2em;color: black;border-radius: 0.25em;background-color: #f0f8ff;}#sk-container-id-1 input.sk-toggleable__control:checked~div.sk-toggleable__content {max-height: 200px;max-width: 100%;overflow: auto;}#sk-container-id-1 input.sk-toggleable__control:checked~label.sk-toggleable__label-arrow:before {content: \"▾\";}#sk-container-id-1 div.sk-estimator input.sk-toggleable__control:checked~label.sk-toggleable__label {background-color: #d4ebff;}#sk-container-id-1 div.sk-label input.sk-toggleable__control:checked~label.sk-toggleable__label {background-color: #d4ebff;}#sk-container-id-1 input.sk-hidden--visually {border: 0;clip: rect(1px 1px 1px 1px);clip: rect(1px, 1px, 1px, 1px);height: 1px;margin: -1px;overflow: hidden;padding: 0;position: absolute;width: 1px;}#sk-container-id-1 div.sk-estimator {font-family: monospace;background-color: #f0f8ff;border: 1px dotted black;border-radius: 0.25em;box-sizing: border-box;margin-bottom: 0.5em;}#sk-container-id-1 div.sk-estimator:hover {background-color: #d4ebff;}#sk-container-id-1 div.sk-parallel-item::after {content: \"\";width: 100%;border-bottom: 1px solid gray;flex-grow: 1;}#sk-container-id-1 div.sk-label:hover label.sk-toggleable__label {background-color: #d4ebff;}#sk-container-id-1 div.sk-serial::before {content: \"\";position: absolute;border-left: 1px solid gray;box-sizing: border-box;top: 0;bottom: 0;left: 50%;z-index: 0;}#sk-container-id-1 div.sk-serial {display: flex;flex-direction: column;align-items: center;background-color: white;padding-right: 0.2em;padding-left: 0.2em;position: relative;}#sk-container-id-1 div.sk-item {position: relative;z-index: 1;}#sk-container-id-1 div.sk-parallel {display: flex;align-items: stretch;justify-content: center;background-color: white;position: relative;}#sk-container-id-1 div.sk-item::before, #sk-container-id-1 div.sk-parallel-item::before {content: \"\";position: absolute;border-left: 1px solid gray;box-sizing: border-box;top: 0;bottom: 0;left: 50%;z-index: -1;}#sk-container-id-1 div.sk-parallel-item {display: flex;flex-direction: column;z-index: 1;position: relative;background-color: white;}#sk-container-id-1 div.sk-parallel-item:first-child::after {align-self: flex-end;width: 50%;}#sk-container-id-1 div.sk-parallel-item:last-child::after {align-self: flex-start;width: 50%;}#sk-container-id-1 div.sk-parallel-item:only-child::after {width: 0;}#sk-container-id-1 div.sk-dashed-wrapped {border: 1px dashed gray;margin: 0 0.4em 0.5em 0.4em;box-sizing: border-box;padding-bottom: 0.4em;background-color: white;}#sk-container-id-1 div.sk-label label {font-family: monospace;font-weight: bold;display: inline-block;line-height: 1.2em;}#sk-container-id-1 div.sk-label-container {text-align: center;}#sk-container-id-1 div.sk-container {/* jupyter's `normalize.less` sets `[hidden] { display: none; }` but bootstrap.min.css set `[hidden] { display: none !important; }` so we also need the `!important` here to be able to override the default hidden behavior on the sphinx rendered scikit-learn.org. See: https://github.com/scikit-learn/scikit-learn/issues/21755 */display: inline-block !important;position: relative;}#sk-container-id-1 div.sk-text-repr-fallback {display: none;}</style><div id=\"sk-container-id-1\" class=\"sk-top-container\"><div class=\"sk-text-repr-fallback\"><pre>KNeighborsClassifier()</pre><b>In a Jupyter environment, please rerun this cell to show the HTML representation or trust the notebook. <br />On GitHub, the HTML representation is unable to render, please try loading this page with nbviewer.org.</b></div><div class=\"sk-container\" hidden><div class=\"sk-item\"><div class=\"sk-estimator sk-toggleable\"><input class=\"sk-toggleable__control sk-hidden--visually\" id=\"sk-estimator-id-1\" type=\"checkbox\" checked><label for=\"sk-estimator-id-1\" class=\"sk-toggleable__label sk-toggleable__label-arrow\">KNeighborsClassifier</label><div class=\"sk-toggleable__content\"><pre>KNeighborsClassifier()</pre></div></div></div></div></div>"
      ],
      "text/plain": [
       "KNeighborsClassifier()"
      ]
     },
     "execution_count": 52,
     "metadata": {},
     "output_type": "execute_result"
    }
   ],
   "source": [
    "KNN.fit(X_train, Y_train)"
   ]
  },
  {
   "cell_type": "code",
   "execution_count": 54,
   "id": "62c49c9a",
   "metadata": {},
   "outputs": [
    {
     "name": "stdout",
     "output_type": "stream",
     "text": [
      "Akurasi Training pada KNN : 0.43470402169001354\n",
      "Akurasi Test pada KNN : 0.17801204819277108\n"
     ]
    }
   ],
   "source": [
    "print(f'Akurasi Training pada KNN : {KNN.score(X_train, Y_train)}')\n",
    "print(f'Akurasi Test pada KNN : {KNN.score(X_test, Y_test)}')"
   ]
  },
  {
   "cell_type": "markdown",
   "id": "90175f36",
   "metadata": {},
   "source": [
    "## Perbandingan SCORE dari berbagai Algoritma"
   ]
  },
  {
   "cell_type": "code",
   "execution_count": 57,
   "id": "b45749e0",
   "metadata": {},
   "outputs": [
    {
     "name": "stdout",
     "output_type": "stream",
     "text": [
      "Akurasi dari Gaussian Naive Bayes : 0.06746987951807229\n",
      "\n",
      "\n",
      "\n",
      "Akurasi Training menggunakan SVM : 0.13292664557915349\n",
      "Akurasi Test menggunakan SVM : 0.1328313253012048\n",
      "\n",
      "\n",
      "\n",
      "Akurasi Training menggunakan KNN : 0.43470402169001354\n",
      "Akurasi Test menggunakan KNN : 0.17801204819277108\n"
     ]
    }
   ],
   "source": [
    "print(f'Akurasi dari Gaussian Naive Bayes : {accuracy_score(Gpredict, Y_test)}')\n",
    "\n",
    "print(\"\\n\\n\")\n",
    "print(f'Akurasi Training menggunakan SVM : {SVC.score(X_train, Y_train)}')\n",
    "print(f'Akurasi Test menggunakan SVM : {SVC.score(X_test, Y_test)}')\n",
    "print(\"\\n\\n\")\n",
    "print(f'Akurasi Training menggunakan KNN : {KNN.score(X_train, Y_train)}')\n",
    "print(f'Akurasi Test menggunakan KNN : {KNN.score(X_test, Y_test)}')"
   ]
  },
  {
   "cell_type": "markdown",
   "id": "0cff447c",
   "metadata": {},
   "source": [
    "## Tampilkan score dari model-model tersebut untuk classification"
   ]
  },
  {
   "cell_type": "code",
   "execution_count": 72,
   "id": "1632b205",
   "metadata": {},
   "outputs": [],
   "source": [
    "from sklearn.metrics import classification_report"
   ]
  },
  {
   "cell_type": "code",
   "execution_count": 71,
   "id": "dbf4ba0f",
   "metadata": {},
   "outputs": [
    {
     "name": "stdout",
     "output_type": "stream",
     "text": [
      "\t \t     | Support Vector Machine |\n",
      "              precision    recall  f1-score   support\n",
      "\n",
      "        2600       0.00      0.00      0.00        26\n",
      "         3DO       0.00      0.00      0.00         1\n",
      "         3DS       0.00      0.00      0.00        99\n",
      "          DC       0.00      0.00      0.00        12\n",
      "          DS       0.14      0.67      0.24       433\n",
      "          GB       0.00      0.00      0.00        22\n",
      "         GBA       0.00      0.00      0.00       172\n",
      "          GC       0.00      0.00      0.00       108\n",
      "         GEN       0.00      0.00      0.00         5\n",
      "         N64       0.00      0.00      0.00        60\n",
      "         NES       0.00      0.00      0.00        18\n",
      "          NG       0.00      0.00      0.00         2\n",
      " No Platform       0.00      0.00      0.00         3\n",
      "          PC       0.00      0.00      0.00       185\n",
      "          PS       0.00      0.00      0.00       244\n",
      "         PS2       0.12      0.38      0.18       403\n",
      "         PS3       0.00      0.00      0.00       276\n",
      "         PS4       0.00      0.00      0.00        72\n",
      "         PSP       0.00      0.00      0.00       251\n",
      "         PSV       0.00      0.00      0.00        93\n",
      "         SAT       0.00      0.00      0.00        36\n",
      "         SCD       0.00      0.00      0.00         2\n",
      "        SNES       0.00      0.00      0.00        54\n",
      "        TG16       0.00      0.00      0.00         2\n",
      "          WS       0.00      0.00      0.00         2\n",
      "         Wii       0.00      0.00      0.00       264\n",
      "        WiiU       0.00      0.00      0.00        30\n",
      "        X360       0.00      0.00      0.00       238\n",
      "          XB       0.00      0.00      0.00       161\n",
      "        XOne       0.00      0.00      0.00        46\n",
      "\n",
      "    accuracy                           0.13      3320\n",
      "   macro avg       0.01      0.03      0.01      3320\n",
      "weighted avg       0.03      0.13      0.05      3320\n",
      "\n",
      "\n",
      "\n",
      "=================================================================\n",
      "\t \t     | Naive Bayes |\n",
      "              precision    recall  f1-score   support\n",
      "\n",
      "        2600       0.13      0.12      0.12        26\n",
      "         3DO       0.00      0.00      0.00         1\n",
      "         3DS       0.00      0.00      0.00        99\n",
      "          DC       0.00      0.00      0.00        12\n",
      "          DS       0.00      0.00      0.00       433\n",
      "          GB       0.08      0.09      0.09        22\n",
      "         GBA       0.00      0.00      0.00       172\n",
      "          GC       0.00      0.00      0.00       108\n",
      "         GEN       0.00      0.00      0.00         5\n",
      "         N64       0.00      0.00      0.00        60\n",
      "         NES       0.17      0.06      0.08        18\n",
      "          NG       0.00      0.00      0.00         2\n",
      " No Platform       0.00      0.00      0.00         3\n",
      "          PC       0.12      0.04      0.06       185\n",
      "          PS       0.40      0.01      0.02       244\n",
      "         PS2       0.08      0.02      0.04       403\n",
      "         PS3       0.22      0.04      0.06       276\n",
      "         PS4       0.00      0.00      0.00        72\n",
      "         PSP       0.14      0.05      0.08       251\n",
      "         PSV       0.04      0.87      0.08        93\n",
      "         SAT       0.09      0.69      0.17        36\n",
      "         SCD       0.00      0.00      0.00         2\n",
      "        SNES       0.00      0.00      0.00        54\n",
      "        TG16       0.00      0.00      0.00         2\n",
      "          WS       0.00      0.00      0.00         2\n",
      "         Wii       0.11      0.02      0.04       264\n",
      "        WiiU       0.00      0.00      0.00        30\n",
      "        X360       0.18      0.07      0.10       238\n",
      "          XB       0.08      0.30      0.13       161\n",
      "        XOne       0.00      0.00      0.00        46\n",
      "\n",
      "    accuracy                           0.07      3320\n",
      "   macro avg       0.06      0.08      0.03      3320\n",
      "weighted avg       0.11      0.07      0.04      3320\n",
      "\n"
     ]
    },
    {
     "name": "stderr",
     "output_type": "stream",
     "text": [
      "C:\\Users\\ASUS\\AppData\\Local\\Programs\\Python\\Python310\\lib\\site-packages\\sklearn\\metrics\\_classification.py:1334: UndefinedMetricWarning: Precision and F-score are ill-defined and being set to 0.0 in labels with no predicted samples. Use `zero_division` parameter to control this behavior.\n",
      "  _warn_prf(average, modifier, msg_start, len(result))\n",
      "C:\\Users\\ASUS\\AppData\\Local\\Programs\\Python\\Python310\\lib\\site-packages\\sklearn\\metrics\\_classification.py:1334: UndefinedMetricWarning: Precision and F-score are ill-defined and being set to 0.0 in labels with no predicted samples. Use `zero_division` parameter to control this behavior.\n",
      "  _warn_prf(average, modifier, msg_start, len(result))\n",
      "C:\\Users\\ASUS\\AppData\\Local\\Programs\\Python\\Python310\\lib\\site-packages\\sklearn\\metrics\\_classification.py:1334: UndefinedMetricWarning: Precision and F-score are ill-defined and being set to 0.0 in labels with no predicted samples. Use `zero_division` parameter to control this behavior.\n",
      "  _warn_prf(average, modifier, msg_start, len(result))\n",
      "C:\\Users\\ASUS\\AppData\\Local\\Programs\\Python\\Python310\\lib\\site-packages\\sklearn\\metrics\\_classification.py:1334: UndefinedMetricWarning: Precision and F-score are ill-defined and being set to 0.0 in labels with no predicted samples. Use `zero_division` parameter to control this behavior.\n",
      "  _warn_prf(average, modifier, msg_start, len(result))\n",
      "C:\\Users\\ASUS\\AppData\\Local\\Programs\\Python\\Python310\\lib\\site-packages\\sklearn\\metrics\\_classification.py:1334: UndefinedMetricWarning: Precision and F-score are ill-defined and being set to 0.0 in labels with no predicted samples. Use `zero_division` parameter to control this behavior.\n",
      "  _warn_prf(average, modifier, msg_start, len(result))\n",
      "C:\\Users\\ASUS\\AppData\\Local\\Programs\\Python\\Python310\\lib\\site-packages\\sklearn\\metrics\\_classification.py:1334: UndefinedMetricWarning: Precision and F-score are ill-defined and being set to 0.0 in labels with no predicted samples. Use `zero_division` parameter to control this behavior.\n",
      "  _warn_prf(average, modifier, msg_start, len(result))\n"
     ]
    }
   ],
   "source": [
    "\n",
    "print(\"\\t \\t     | Support Vector Machine |\")\n",
    "print(classification_report (Y_test, SVC_predict))\n",
    "print(\"\\n\")\n",
    "print(\"=================================================================\")\n",
    "\n",
    "print(\"\\t \\t     | Naive Bayes |\")\n",
    "print(classification_report (Y_test, Gpredict))"
   ]
  },
  {
   "cell_type": "code",
   "execution_count": null,
   "id": "f4a5b031",
   "metadata": {},
   "outputs": [],
   "source": []
  }
 ],
 "metadata": {
  "kernelspec": {
   "display_name": "Python 3 (ipykernel)",
   "language": "python",
   "name": "python3"
  },
  "language_info": {
   "codemirror_mode": {
    "name": "ipython",
    "version": 3
   },
   "file_extension": ".py",
   "mimetype": "text/x-python",
   "name": "python",
   "nbconvert_exporter": "python",
   "pygments_lexer": "ipython3",
   "version": "3.10.7"
  }
 },
 "nbformat": 4,
 "nbformat_minor": 5
}
