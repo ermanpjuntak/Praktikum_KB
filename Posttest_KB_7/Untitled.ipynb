{
 "cells": [
  {
   "cell_type": "markdown",
   "id": "b456a71a",
   "metadata": {},
   "source": [
    "## Erman Parni Simanjuntak\n",
    "## 2009106046\n",
    "## POSTTEST 7"
   ]
  },
  {
   "cell_type": "markdown",
   "id": "51ea8499",
   "metadata": {},
   "source": [
    "#### Import Library"
   ]
  },
  {
   "cell_type": "code",
   "execution_count": 3,
   "id": "ace30ef0",
   "metadata": {},
   "outputs": [],
   "source": [
    "import tensorflow as tf"
   ]
  },
  {
   "cell_type": "markdown",
   "id": "aadca249",
   "metadata": {},
   "source": [
    "#### tensor dengan shape(5,5) dengan nilai random yang disimpan dalam variable random_tensor"
   ]
  },
  {
   "cell_type": "code",
   "execution_count": 4,
   "id": "a837a3fa",
   "metadata": {},
   "outputs": [
    {
     "name": "stdout",
     "output_type": "stream",
     "text": [
      "tf.Tensor(\n",
      "[[-0.8113182   1.4845988   0.06532937 -2.4427042   0.0992484 ]\n",
      " [ 0.5912243   0.59282297 -2.1229296  -0.72289723 -0.05627038]\n",
      " [ 0.6435448  -0.26432407  1.8566332   0.5678417  -0.3828359 ]\n",
      " [-1.4853433   1.2617711  -0.02530608 -0.2646297   1.5328138 ]\n",
      " [-1.7429771  -0.43789294 -0.56601     0.32066926  1.132831  ]], shape=(5, 5), dtype=float32)\n"
     ]
    }
   ],
   "source": [
    "rt = tf.random.normal([5,5],mean=0,stddev=1,seed=1) \n",
    "print(rt)"
   ]
  },
  {
   "cell_type": "markdown",
   "id": "917374bf",
   "metadata": {},
   "source": [
    "#### shape(5,5) dari sebuah list dengan nilai bilangan prima dalam variable prime_tensor"
   ]
  },
  {
   "cell_type": "code",
   "execution_count": 5,
   "id": "368a556f",
   "metadata": {},
   "outputs": [
    {
     "data": {
      "text/plain": [
       "array([[ 1.,  3.,  5.,  8., 11.],\n",
       "       [15., 16., 19., 23., 25.],\n",
       "       [32., 34., 44., 45., 47.],\n",
       "       [55., 58., 65., 67., 70.],\n",
       "       [71., 75., 82., 87., 91.]], dtype=float32)"
      ]
     },
     "execution_count": 5,
     "metadata": {},
     "output_type": "execute_result"
    }
   ],
   "source": [
    "list = [[1,3,5,8,11],[15,16,19,23,25],[32,34,44,45,47],[55,58,65,67,70],[71,75,82,87,91]]\n",
    "prime_tensor = tf.convert_to_tensor(list, dtype=tf.float32)\n",
    "prime_tensor.numpy()"
   ]
  },
  {
   "cell_type": "markdown",
   "id": "5f58ff07",
   "metadata": {},
   "source": [
    "#### Tampilkan dimensi dari kedua variable tersebut"
   ]
  },
  {
   "cell_type": "code",
   "execution_count": 6,
   "id": "c4905c19",
   "metadata": {},
   "outputs": [
    {
     "data": {
      "text/plain": [
       "TensorShape([5, 5])"
      ]
     },
     "execution_count": 6,
     "metadata": {},
     "output_type": "execute_result"
    }
   ],
   "source": [
    "rt.get_shape()"
   ]
  },
  {
   "cell_type": "code",
   "execution_count": 7,
   "id": "e256301d",
   "metadata": {},
   "outputs": [
    {
     "data": {
      "text/plain": [
       "TensorShape([5, 5])"
      ]
     },
     "execution_count": 7,
     "metadata": {},
     "output_type": "execute_result"
    }
   ],
   "source": [
    "rt.shape"
   ]
  },
  {
   "cell_type": "markdown",
   "id": "80296de5",
   "metadata": {},
   "source": [
    "## Hasil dari perhitungan aritmetika 2 variable"
   ]
  },
  {
   "cell_type": "markdown",
   "id": "41068019",
   "metadata": {},
   "source": [
    "#### Tambah"
   ]
  },
  {
   "cell_type": "code",
   "execution_count": 8,
   "id": "dcc8469c",
   "metadata": {},
   "outputs": [
    {
     "name": "stdout",
     "output_type": "stream",
     "text": [
      "tf.Tensor(\n",
      "[[ 0.18868178  4.4845986   5.0653296   5.557296   11.099248  ]\n",
      " [15.591225   16.592823   16.877071   22.277103   24.94373   ]\n",
      " [32.643543   33.735676   45.856632   45.56784    46.617165  ]\n",
      " [53.514656   59.261772   64.97469    66.73537    71.532814  ]\n",
      " [69.25702    74.5621     81.43399    87.32067    92.13283   ]], shape=(5, 5), dtype=float32)\n"
     ]
    }
   ],
   "source": [
    "print(tf.add(rt, prime_tensor))"
   ]
  },
  {
   "cell_type": "markdown",
   "id": "f81ea82e",
   "metadata": {},
   "source": [
    "#### kali"
   ]
  },
  {
   "cell_type": "code",
   "execution_count": 9,
   "id": "5fa9dbd6",
   "metadata": {},
   "outputs": [
    {
     "name": "stdout",
     "output_type": "stream",
     "text": [
      "tf.Tensor(\n",
      "[[  -0.8113182     4.4537964     0.32664686  -19.541634      1.0917324 ]\n",
      " [   8.868364      9.4851675   -40.335663    -16.626637     -1.4067595 ]\n",
      " [  20.593433     -8.987019     81.691864     25.552877    -17.993286  ]\n",
      " [ -81.693886     73.182724     -1.6448952   -17.73019     107.29697   ]\n",
      " [-123.75137     -32.841972    -46.41282      27.898226    103.087616  ]], shape=(5, 5), dtype=float32)\n"
     ]
    }
   ],
   "source": [
    "print(tf.multiply(rt, prime_tensor))"
   ]
  },
  {
   "cell_type": "markdown",
   "id": "7b394085",
   "metadata": {},
   "source": [
    "#### kurang"
   ]
  },
  {
   "cell_type": "code",
   "execution_count": 10,
   "id": "016e898f",
   "metadata": {},
   "outputs": [
    {
     "name": "stdout",
     "output_type": "stream",
     "text": [
      "tf.Tensor(\n",
      "[[ -1.8113182  -1.5154012  -4.9346704 -10.442704  -10.900752 ]\n",
      " [-14.408775  -15.407177  -21.122929  -23.722897  -25.05627  ]\n",
      " [-31.356455  -34.264324  -42.143368  -44.43216   -47.382835 ]\n",
      " [-56.485344  -56.738228  -65.02531   -67.26463   -68.467186 ]\n",
      " [-72.74298   -75.4379    -82.56601   -86.67933   -89.86717  ]], shape=(5, 5), dtype=float32)\n"
     ]
    }
   ],
   "source": [
    "print(tf.subtract(rt, prime_tensor))"
   ]
  },
  {
   "cell_type": "markdown",
   "id": "cff24e1c",
   "metadata": {},
   "source": [
    "#### pembagian"
   ]
  },
  {
   "cell_type": "code",
   "execution_count": 11,
   "id": "89c9e52d",
   "metadata": {},
   "outputs": [
    {
     "name": "stdout",
     "output_type": "stream",
     "text": [
      "tf.Tensor(\n",
      "[[-8.1131822e-01  4.9486625e-01  1.3065875e-02 -3.0533803e-01\n",
      "   9.0225823e-03]\n",
      " [ 3.9414953e-02  3.7051436e-02 -1.1173314e-01 -3.1430315e-02\n",
      "  -2.2508153e-03]\n",
      " [ 2.0110775e-02 -7.7742375e-03  4.2196210e-02  1.2618705e-02\n",
      "  -8.1454450e-03]\n",
      " [-2.7006242e-02  2.1754675e-02 -3.8932430e-04 -3.9496967e-03\n",
      "   2.1897340e-02]\n",
      " [-2.4548974e-02 -5.8385725e-03 -6.9025611e-03  3.6858537e-03\n",
      "   1.2448692e-02]], shape=(5, 5), dtype=float32)\n"
     ]
    }
   ],
   "source": [
    "print(tf.divide(rt,prime_tensor))"
   ]
  },
  {
   "cell_type": "markdown",
   "id": "f391fa8c",
   "metadata": {},
   "source": [
    "#### Pangkat"
   ]
  },
  {
   "cell_type": "code",
   "execution_count": 12,
   "id": "bf6889af",
   "metadata": {},
   "outputs": [
    {
     "name": "stdout",
     "output_type": "stream",
     "text": [
      "tf.Tensor(\n",
      "[[-8.1131822e-01  3.2721055e+00  1.1899876e-06  1.2675557e+03\n",
      "   9.2036214e-12]\n",
      " [ 3.7695045e-04  2.3270212e-04 -1.6284565e+06 -5.7380047e-04\n",
      "  -5.7147351e-32]\n",
      " [ 7.4906757e-07  2.2524138e-20  6.6672814e+11  8.7142099e-12\n",
      "  -2.5211261e-20]\n",
      " [-2.8214794e+09  7.1923875e+05 -0.0000000e+00 -0.0000000e+00\n",
      "   9.6440146e+12]\n",
      " [-1.3542851e+17 -1.2664732e-27  5.3898471e-21  0.0000000e+00\n",
      "   8.4923055e+04]], shape=(5, 5), dtype=float32)\n"
     ]
    }
   ],
   "source": [
    "print(tf.pow(rt, prime_tensor))"
   ]
  },
  {
   "cell_type": "markdown",
   "id": "5193ad95",
   "metadata": {},
   "source": [
    "#### Logaritma"
   ]
  },
  {
   "cell_type": "code",
   "execution_count": 13,
   "id": "8e657012",
   "metadata": {},
   "outputs": [
    {
     "name": "stdout",
     "output_type": "stream",
     "text": [
      "tf.Tensor(\n",
      "[[        nan  0.39514455 -2.7283134          nan -2.3101294 ]\n",
      " [-0.5255598  -0.52285945         nan         nan         nan]\n",
      " [-0.44076362         nan  0.61876476 -0.5659126          nan]\n",
      " [        nan  0.23251635         nan         nan  0.42710513]\n",
      " [        nan         nan         nan -1.1373451   0.12471979]], shape=(5, 5), dtype=float32)\n"
     ]
    }
   ],
   "source": [
    "print(tf.math.log(rt, prime_tensor))"
   ]
  },
  {
   "cell_type": "markdown",
   "id": "0ab65960",
   "metadata": {},
   "source": [
    "## Nilai Max & Min"
   ]
  },
  {
   "cell_type": "markdown",
   "id": "eff7f253",
   "metadata": {},
   "source": [
    "#### Min"
   ]
  },
  {
   "cell_type": "code",
   "execution_count": 14,
   "id": "74a7c987",
   "metadata": {},
   "outputs": [
    {
     "name": "stdout",
     "output_type": "stream",
     "text": [
      "tf.Tensor([4 4 1 0 2], shape=(5,), dtype=int64)\n"
     ]
    }
   ],
   "source": [
    "print(tf.argmin(rt, axis=0))"
   ]
  },
  {
   "cell_type": "code",
   "execution_count": 15,
   "id": "396adc3f",
   "metadata": {},
   "outputs": [
    {
     "name": "stdout",
     "output_type": "stream",
     "text": [
      "tf.Tensor(\n",
      "[[3 0 2 4 1]\n",
      " [2 3 4 0 1]\n",
      " [4 1 3 0 2]\n",
      " [0 3 2 1 4]\n",
      " [0 2 1 3 4]], shape=(5, 5), dtype=int32)\n"
     ]
    }
   ],
   "source": [
    "print(tf.argsort(rt, direction='ASCENDING'))"
   ]
  },
  {
   "cell_type": "code",
   "execution_count": 16,
   "id": "c84c35ef",
   "metadata": {},
   "outputs": [
    {
     "name": "stdout",
     "output_type": "stream",
     "text": [
      "tf.Tensor([3 2 4 0 0], shape=(5,), dtype=int64)\n"
     ]
    }
   ],
   "source": [
    "print(tf.argmin(rt, axis=1))"
   ]
  },
  {
   "cell_type": "code",
   "execution_count": 17,
   "id": "8b9cafa5",
   "metadata": {},
   "outputs": [
    {
     "name": "stdout",
     "output_type": "stream",
     "text": [
      "tf.Tensor(\n",
      "[[-2.4427042  -0.8113182   0.06532937  0.0992484   1.4845988 ]\n",
      " [-2.1229296  -0.72289723 -0.05627038  0.5912243   0.59282297]\n",
      " [-0.3828359  -0.26432407  0.5678417   0.6435448   1.8566332 ]\n",
      " [-1.4853433  -0.2646297  -0.02530608  1.2617711   1.5328138 ]\n",
      " [-1.7429771  -0.56601    -0.43789294  0.32066926  1.132831  ]], shape=(5, 5), dtype=float32)\n"
     ]
    }
   ],
   "source": [
    "print(tf.sort(rt, direction='ASCENDING'))"
   ]
  },
  {
   "cell_type": "markdown",
   "id": "f306b2e0",
   "metadata": {},
   "source": [
    "#### Max"
   ]
  },
  {
   "cell_type": "code",
   "execution_count": 18,
   "id": "5445709e",
   "metadata": {},
   "outputs": [
    {
     "name": "stdout",
     "output_type": "stream",
     "text": [
      "tf.Tensor([2 0 2 2 3], shape=(5,), dtype=int64)\n"
     ]
    }
   ],
   "source": [
    "print(tf.argmax(rt, axis=0))"
   ]
  },
  {
   "cell_type": "code",
   "execution_count": 19,
   "id": "ccb5b87e",
   "metadata": {},
   "outputs": [
    {
     "name": "stdout",
     "output_type": "stream",
     "text": [
      "tf.Tensor(\n",
      "[[3 0 2 4 1]\n",
      " [2 3 4 0 1]\n",
      " [4 1 3 0 2]\n",
      " [0 3 2 1 4]\n",
      " [0 2 1 3 4]], shape=(5, 5), dtype=int32)\n"
     ]
    }
   ],
   "source": [
    "print(tf.argsort(rt, direction='ASCENDING'))"
   ]
  },
  {
   "cell_type": "markdown",
   "id": "4d04a2da",
   "metadata": {},
   "source": [
    "#### Concatenation"
   ]
  },
  {
   "cell_type": "code",
   "execution_count": 20,
   "id": "c4242ba3",
   "metadata": {},
   "outputs": [
    {
     "name": "stdout",
     "output_type": "stream",
     "text": [
      "size original data :  (5, 5) (5, 5)\n",
      "size concat data :  (5, 5)\n"
     ]
    }
   ],
   "source": [
    "print(\"size original data : \",prime_tensor.shape,rt.shape)\n",
    "list_prima_tensor = tf.concat([prime_tensor,rt],axis=0)\n",
    "print(\"size concat data : \",prime_tensor.shape)"
   ]
  },
  {
   "cell_type": "markdown",
   "id": "7b72b261",
   "metadata": {},
   "source": [
    "#### Hasil sorting dari kedua variable di atas. (descending)"
   ]
  },
  {
   "cell_type": "code",
   "execution_count": 21,
   "id": "56292756",
   "metadata": {},
   "outputs": [
    {
     "name": "stdout",
     "output_type": "stream",
     "text": [
      "tf.Tensor(\n",
      "[[ 1.4845988   0.0992484   0.06532937 -0.8113182  -2.4427042 ]\n",
      " [ 0.59282297  0.5912243  -0.05627038 -0.72289723 -2.1229296 ]\n",
      " [ 1.8566332   0.6435448   0.5678417  -0.26432407 -0.3828359 ]\n",
      " [ 1.5328138   1.2617711  -0.02530608 -0.2646297  -1.4853433 ]\n",
      " [ 1.132831    0.32066926 -0.43789294 -0.56601    -1.7429771 ]], shape=(5, 5), dtype=float32)\n",
      "tf.Tensor(\n",
      "[[11.  8.  5.  3.  1.]\n",
      " [25. 23. 19. 16. 15.]\n",
      " [47. 45. 44. 34. 32.]\n",
      " [70. 67. 65. 58. 55.]\n",
      " [91. 87. 82. 75. 71.]], shape=(5, 5), dtype=float32)\n"
     ]
    }
   ],
   "source": [
    "print(tf.sort(rt, direction=\"DESCENDING\"))\n",
    "print(tf.sort(prime_tensor, direction=\"DESCENDING\"))"
   ]
  },
  {
   "cell_type": "code",
   "execution_count": null,
   "id": "f7a8c0b6",
   "metadata": {},
   "outputs": [],
   "source": []
  }
 ],
 "metadata": {
  "kernelspec": {
   "display_name": "Python 3 (ipykernel)",
   "language": "python",
   "name": "python3"
  },
  "language_info": {
   "codemirror_mode": {
    "name": "ipython",
    "version": 3
   },
   "file_extension": ".py",
   "mimetype": "text/x-python",
   "name": "python",
   "nbconvert_exporter": "python",
   "pygments_lexer": "ipython3",
   "version": "3.10.7"
  }
 },
 "nbformat": 4,
 "nbformat_minor": 5
}
