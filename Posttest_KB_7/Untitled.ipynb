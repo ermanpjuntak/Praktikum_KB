{
 "cells": [
  {
   "cell_type": "code",
   "execution_count": 1,
   "id": "24f9cd98",
   "metadata": {},
   "outputs": [
    {
     "name": "stdout",
     "output_type": "stream",
     "text": [
      "Collecting tensorflow\n",
      "  Using cached tensorflow-2.10.0-cp310-cp310-win_amd64.whl (455.9 MB)\n",
      "Collecting opt-einsum>=2.3.2\n",
      "  Using cached opt_einsum-3.3.0-py3-none-any.whl (65 kB)\n",
      "Collecting tensorboard<2.11,>=2.10\n",
      "  Downloading tensorboard-2.10.1-py3-none-any.whl (5.9 MB)\n",
      "     ---------------------------------------- 5.9/5.9 MB 181.2 kB/s eta 0:00:00\n",
      "Collecting grpcio<2.0,>=1.24.3\n",
      "  Downloading grpcio-1.50.0-cp310-cp310-win_amd64.whl (3.6 MB)\n",
      "     ---------------------------------------- 3.6/3.6 MB 535.4 kB/s eta 0:00:00\n",
      "Collecting gast<=0.4.0,>=0.2.1\n",
      "  Downloading gast-0.4.0-py3-none-any.whl (9.8 kB)\n",
      "Requirement already satisfied: packaging in c:\\users\\asus\\appdata\\local\\programs\\python\\python310\\lib\\site-packages (from tensorflow) (21.3)\n",
      "Collecting wrapt>=1.11.0\n",
      "  Downloading wrapt-1.14.1-cp310-cp310-win_amd64.whl (35 kB)\n",
      "Collecting astunparse>=1.6.0\n",
      "  Downloading astunparse-1.6.3-py2.py3-none-any.whl (12 kB)\n",
      "Collecting typing-extensions>=3.6.6\n",
      "  Using cached typing_extensions-4.4.0-py3-none-any.whl (26 kB)\n",
      "Collecting google-pasta>=0.1.1\n",
      "  Downloading google_pasta-0.2.0-py3-none-any.whl (57 kB)\n",
      "     -------------------------------------- 57.5/57.5 kB 761.8 kB/s eta 0:00:00\n",
      "Collecting tensorflow-estimator<2.11,>=2.10.0\n",
      "  Downloading tensorflow_estimator-2.10.0-py2.py3-none-any.whl (438 kB)\n",
      "     ------------------------------------ 438.7/438.7 kB 609.5 kB/s eta 0:00:00\n",
      "Requirement already satisfied: setuptools in c:\\users\\asus\\appdata\\local\\programs\\python\\python310\\lib\\site-packages (from tensorflow) (63.2.0)\n",
      "Requirement already satisfied: keras<2.11,>=2.10.0 in c:\\users\\asus\\appdata\\local\\programs\\python\\python310\\lib\\site-packages (from tensorflow) (2.10.0)\n",
      "Requirement already satisfied: numpy>=1.20 in c:\\users\\asus\\appdata\\local\\programs\\python\\python310\\lib\\site-packages (from tensorflow) (1.23.3)\n",
      "Collecting h5py>=2.9.0\n",
      "  Downloading h5py-3.7.0-cp310-cp310-win_amd64.whl (2.6 MB)\n",
      "     ---------------------------------------- 2.6/2.6 MB 568.0 kB/s eta 0:00:00\n",
      "Collecting keras-preprocessing>=1.1.1\n",
      "  Downloading Keras_Preprocessing-1.1.2-py2.py3-none-any.whl (42 kB)\n",
      "     -------------------------------------- 42.6/42.6 kB 414.6 kB/s eta 0:00:00\n",
      "Collecting flatbuffers>=2.0\n",
      "  Downloading flatbuffers-22.10.26-py2.py3-none-any.whl (26 kB)\n",
      "Collecting tensorflow-io-gcs-filesystem>=0.23.1\n",
      "  Downloading tensorflow_io_gcs_filesystem-0.27.0-cp310-cp310-win_amd64.whl (1.5 MB)\n",
      "     ---------------------------------------- 1.5/1.5 MB 589.6 kB/s eta 0:00:00\n",
      "Requirement already satisfied: six>=1.12.0 in c:\\users\\asus\\appdata\\local\\programs\\python\\python310\\lib\\site-packages (from tensorflow) (1.16.0)\n",
      "Collecting absl-py>=1.0.0\n",
      "  Downloading absl_py-1.3.0-py3-none-any.whl (124 kB)\n",
      "     -------------------------------------- 124.6/124.6 kB 1.0 MB/s eta 0:00:00\n",
      "Collecting protobuf<3.20,>=3.9.2\n",
      "  Downloading protobuf-3.19.6-cp310-cp310-win_amd64.whl (895 kB)\n",
      "     ------------------------------------ 895.7/895.7 kB 524.8 kB/s eta 0:00:00\n",
      "Collecting libclang>=13.0.0\n",
      "  Downloading libclang-14.0.6-py2.py3-none-win_amd64.whl (14.2 MB)\n",
      "     -------------------------------------- 14.2/14.2 MB 429.9 kB/s eta 0:00:00\n",
      "Collecting termcolor>=1.1.0\n",
      "  Downloading termcolor-2.1.0-py3-none-any.whl (5.8 kB)\n",
      "Collecting wheel<1.0,>=0.23.0\n",
      "  Downloading wheel-0.37.1-py2.py3-none-any.whl (35 kB)\n",
      "Collecting google-auth<3,>=1.6.3\n",
      "  Downloading google_auth-2.13.0-py2.py3-none-any.whl (174 kB)\n",
      "     ------------------------------------ 174.5/174.5 kB 699.2 kB/s eta 0:00:00\n",
      "Collecting requests<3,>=2.21.0\n",
      "  Downloading requests-2.28.1-py3-none-any.whl (62 kB)\n",
      "     ---------------------------------------- 62.8/62.8 kB 1.1 MB/s eta 0:00:00\n",
      "Collecting tensorboard-data-server<0.7.0,>=0.6.0\n",
      "  Downloading tensorboard_data_server-0.6.1-py3-none-any.whl (2.4 kB)\n",
      "Collecting werkzeug>=1.0.1\n",
      "  Downloading Werkzeug-2.2.2-py3-none-any.whl (232 kB)\n",
      "     ------------------------------------ 232.7/232.7 kB 839.5 kB/s eta 0:00:00\n",
      "Collecting google-auth-oauthlib<0.5,>=0.4.1\n",
      "  Downloading google_auth_oauthlib-0.4.6-py2.py3-none-any.whl (18 kB)\n",
      "Collecting tensorboard-plugin-wit>=1.6.0\n",
      "  Downloading tensorboard_plugin_wit-1.8.1-py3-none-any.whl (781 kB)\n",
      "     ------------------------------------ 781.3/781.3 kB 866.4 kB/s eta 0:00:00\n",
      "Collecting markdown>=2.6.8\n",
      "  Downloading Markdown-3.4.1-py3-none-any.whl (93 kB)\n",
      "     ---------------------------------------- 93.3/93.3 kB 1.1 MB/s eta 0:00:00\n",
      "Requirement already satisfied: pyparsing!=3.0.5,>=2.0.2 in c:\\users\\asus\\appdata\\local\\programs\\python\\python310\\lib\\site-packages (from packaging->tensorflow) (3.0.9)\n",
      "Collecting pyasn1-modules>=0.2.1\n",
      "  Downloading pyasn1_modules-0.2.8-py2.py3-none-any.whl (155 kB)\n",
      "     -------------------------------------- 155.3/155.3 kB 1.3 MB/s eta 0:00:00\n",
      "Collecting rsa<5,>=3.1.4\n",
      "  Downloading rsa-4.9-py3-none-any.whl (34 kB)\n",
      "Collecting cachetools<6.0,>=2.0.0\n",
      "  Downloading cachetools-5.2.0-py3-none-any.whl (9.3 kB)\n",
      "Collecting requests-oauthlib>=0.7.0\n",
      "  Downloading requests_oauthlib-1.3.1-py2.py3-none-any.whl (23 kB)\n",
      "Collecting charset-normalizer<3,>=2\n",
      "  Downloading charset_normalizer-2.1.1-py3-none-any.whl (39 kB)\n",
      "Collecting idna<4,>=2.5\n",
      "  Downloading idna-3.4-py3-none-any.whl (61 kB)\n",
      "     ---------------------------------------- 61.5/61.5 kB 1.7 MB/s eta 0:00:00\n",
      "Collecting urllib3<1.27,>=1.21.1\n",
      "  Downloading urllib3-1.26.12-py2.py3-none-any.whl (140 kB)\n",
      "     -------------------------------------- 140.4/140.4 kB 1.2 MB/s eta 0:00:00\n",
      "Collecting certifi>=2017.4.17\n",
      "  Downloading certifi-2022.9.24-py3-none-any.whl (161 kB)\n",
      "     -------------------------------------- 161.1/161.1 kB 1.2 MB/s eta 0:00:00\n",
      "Requirement already satisfied: MarkupSafe>=2.1.1 in c:\\users\\asus\\appdata\\local\\programs\\python\\python310\\lib\\site-packages (from werkzeug>=1.0.1->tensorboard<2.11,>=2.10->tensorflow) (2.1.1)\n",
      "Collecting pyasn1<0.5.0,>=0.4.6\n",
      "  Downloading pyasn1-0.4.8-py2.py3-none-any.whl (77 kB)\n",
      "     ---------------------------------------- 77.1/77.1 kB 1.4 MB/s eta 0:00:00\n",
      "Collecting oauthlib>=3.0.0\n",
      "  Downloading oauthlib-3.2.2-py3-none-any.whl (151 kB)\n",
      "     -------------------------------------- 151.7/151.7 kB 1.1 MB/s eta 0:00:00\n",
      "Installing collected packages: tensorboard-plugin-wit, pyasn1, libclang, flatbuffers, wrapt, wheel, werkzeug, urllib3, typing-extensions, termcolor, tensorflow-io-gcs-filesystem, tensorflow-estimator, tensorboard-data-server, rsa, pyasn1-modules, protobuf, opt-einsum, oauthlib, markdown, keras-preprocessing, idna, h5py, grpcio, google-pasta, gast, charset-normalizer, certifi, cachetools, absl-py, requests, google-auth, astunparse, requests-oauthlib, google-auth-oauthlib, tensorboard, tensorflow\n",
      "Successfully installed absl-py-1.3.0 astunparse-1.6.3 cachetools-5.2.0 certifi-2022.9.24 charset-normalizer-2.1.1 flatbuffers-22.10.26 gast-0.4.0 google-auth-2.13.0 google-auth-oauthlib-0.4.6 google-pasta-0.2.0 grpcio-1.50.0 h5py-3.7.0 idna-3.4 keras-preprocessing-1.1.2 libclang-14.0.6 markdown-3.4.1 oauthlib-3.2.2 opt-einsum-3.3.0 protobuf-3.19.6 pyasn1-0.4.8 pyasn1-modules-0.2.8 requests-2.28.1 requests-oauthlib-1.3.1 rsa-4.9 tensorboard-2.10.1 tensorboard-data-server-0.6.1 tensorboard-plugin-wit-1.8.1 tensorflow-2.10.0 tensorflow-estimator-2.10.0 tensorflow-io-gcs-filesystem-0.27.0 termcolor-2.1.0 typing-extensions-4.4.0 urllib3-1.26.12 werkzeug-2.2.2 wheel-0.37.1 wrapt-1.14.1\n",
      "Note: you may need to restart the kernel to use updated packages.\n"
     ]
    }
   ],
   "source": [
    "pip install tensorflow"
   ]
  },
  {
   "cell_type": "markdown",
   "id": "b456a71a",
   "metadata": {},
   "source": [
    "## Erman Parni Simanjuntak\n",
    "## 2009106046\n",
    "## POSTTEST 7"
   ]
  },
  {
   "cell_type": "markdown",
   "id": "51ea8499",
   "metadata": {},
   "source": [
    "#### Import Library"
   ]
  },
  {
   "cell_type": "code",
   "execution_count": 2,
   "id": "ace30ef0",
   "metadata": {},
   "outputs": [],
   "source": [
    "import tensorflow as tf"
   ]
  },
  {
   "cell_type": "markdown",
   "id": "aadca249",
   "metadata": {},
   "source": [
    "#### tensor dengan shape(5,5) dengan nilai random yang disimpan dalam variable random_tensor"
   ]
  },
  {
   "cell_type": "code",
   "execution_count": 3,
   "id": "a837a3fa",
   "metadata": {},
   "outputs": [
    {
     "name": "stdout",
     "output_type": "stream",
     "text": [
      "tf.Tensor(\n",
      "[[-0.8113182   1.4845988   0.06532937 -2.4427042   0.0992484 ]\n",
      " [ 0.5912243   0.59282297 -2.1229296  -0.72289723 -0.05627038]\n",
      " [ 0.6435448  -0.26432407  1.8566332   0.5678417  -0.3828359 ]\n",
      " [-1.4853433   1.2617711  -0.02530608 -0.2646297   1.5328138 ]\n",
      " [-1.7429771  -0.43789294 -0.56601     0.32066926  1.132831  ]], shape=(5, 5), dtype=float32)\n"
     ]
    }
   ],
   "source": [
    "rt = tf.random.normal([5,5],mean=0,stddev=1,seed=1) \n",
    "print(rt)"
   ]
  },
  {
   "cell_type": "markdown",
   "id": "917374bf",
   "metadata": {},
   "source": [
    "#### shape(5,5) dari sebuah list dengan nilai bilangan prima dalam variable prime_tensor"
   ]
  },
  {
   "cell_type": "code",
   "execution_count": 4,
   "id": "368a556f",
   "metadata": {},
   "outputs": [
    {
     "data": {
      "text/plain": [
       "array([[ 1.,  3.,  5.,  8., 11.],\n",
       "       [15., 16., 19., 23., 25.],\n",
       "       [32., 34., 44., 45., 47.],\n",
       "       [55., 58., 65., 67., 70.],\n",
       "       [71., 75., 82., 87., 91.]], dtype=float32)"
      ]
     },
     "execution_count": 4,
     "metadata": {},
     "output_type": "execute_result"
    }
   ],
   "source": [
    "list = [[1,3,5,8,11],[15,16,19,23,25],[32,34,44,45,47],[55,58,65,67,70],[71,75,82,87,91]]\n",
    "prime_tensor = tf.convert_to_tensor(list, dtype=tf.float32)\n",
    "prime_tensor.numpy()"
   ]
  },
  {
   "cell_type": "markdown",
   "id": "5f58ff07",
   "metadata": {},
   "source": [
    "#### Tampilkan dimensi dari kedua variable tersebut"
   ]
  },
  {
   "cell_type": "code",
   "execution_count": 6,
   "id": "c4905c19",
   "metadata": {},
   "outputs": [
    {
     "data": {
      "text/plain": [
       "TensorShape([5, 5])"
      ]
     },
     "execution_count": 6,
     "metadata": {},
     "output_type": "execute_result"
    }
   ],
   "source": [
    "rt.get_shape()"
   ]
  },
  {
   "cell_type": "code",
   "execution_count": 8,
   "id": "e256301d",
   "metadata": {},
   "outputs": [
    {
     "data": {
      "text/plain": [
       "TensorShape([5, 5])"
      ]
     },
     "execution_count": 8,
     "metadata": {},
     "output_type": "execute_result"
    }
   ],
   "source": [
    "rt.shape"
   ]
  },
  {
   "cell_type": "markdown",
   "id": "80296de5",
   "metadata": {},
   "source": [
    "## Hasil dari perhitungan aritmetika 2 variable"
   ]
  },
  {
   "cell_type": "markdown",
   "id": "41068019",
   "metadata": {},
   "source": [
    "#### Tambah"
   ]
  },
  {
   "cell_type": "code",
   "execution_count": 9,
   "id": "dcc8469c",
   "metadata": {},
   "outputs": [
    {
     "name": "stdout",
     "output_type": "stream",
     "text": [
      "tf.Tensor(\n",
      "[[ 0.18868178  4.4845986   5.0653296   5.557296   11.099248  ]\n",
      " [15.591225   16.592823   16.877071   22.277103   24.94373   ]\n",
      " [32.643543   33.735676   45.856632   45.56784    46.617165  ]\n",
      " [53.514656   59.261772   64.97469    66.73537    71.532814  ]\n",
      " [69.25702    74.5621     81.43399    87.32067    92.13283   ]], shape=(5, 5), dtype=float32)\n"
     ]
    }
   ],
   "source": [
    "print(tf.add(rt, prime_tensor))"
   ]
  },
  {
   "cell_type": "markdown",
   "id": "f81ea82e",
   "metadata": {},
   "source": [
    "#### kali"
   ]
  },
  {
   "cell_type": "code",
   "execution_count": 10,
   "id": "5fa9dbd6",
   "metadata": {},
   "outputs": [
    {
     "name": "stdout",
     "output_type": "stream",
     "text": [
      "tf.Tensor(\n",
      "[[  -0.8113182     4.4537964     0.32664686  -19.541634      1.0917324 ]\n",
      " [   8.868364      9.4851675   -40.335663    -16.626637     -1.4067595 ]\n",
      " [  20.593433     -8.987019     81.691864     25.552877    -17.993286  ]\n",
      " [ -81.693886     73.182724     -1.6448952   -17.73019     107.29697   ]\n",
      " [-123.75137     -32.841972    -46.41282      27.898226    103.087616  ]], shape=(5, 5), dtype=float32)\n"
     ]
    }
   ],
   "source": [
    "print(tf.multiply(rt, prime_tensor))"
   ]
  },
  {
   "cell_type": "markdown",
   "id": "7b394085",
   "metadata": {},
   "source": [
    "#### kurang"
   ]
  },
  {
   "cell_type": "code",
   "execution_count": 11,
   "id": "016e898f",
   "metadata": {},
   "outputs": [
    {
     "name": "stdout",
     "output_type": "stream",
     "text": [
      "tf.Tensor(\n",
      "[[ -1.8113182  -1.5154012  -4.9346704 -10.442704  -10.900752 ]\n",
      " [-14.408775  -15.407177  -21.122929  -23.722897  -25.05627  ]\n",
      " [-31.356455  -34.264324  -42.143368  -44.43216   -47.382835 ]\n",
      " [-56.485344  -56.738228  -65.02531   -67.26463   -68.467186 ]\n",
      " [-72.74298   -75.4379    -82.56601   -86.67933   -89.86717  ]], shape=(5, 5), dtype=float32)\n"
     ]
    }
   ],
   "source": [
    "print(tf.subtract(rt, prime_tensor))"
   ]
  },
  {
   "cell_type": "markdown",
   "id": "cff24e1c",
   "metadata": {},
   "source": [
    "#### pembagian"
   ]
  },
  {
   "cell_type": "code",
   "execution_count": 12,
   "id": "89c9e52d",
   "metadata": {},
   "outputs": [
    {
     "name": "stdout",
     "output_type": "stream",
     "text": [
      "tf.Tensor(\n",
      "[[-8.1131822e-01  4.9486625e-01  1.3065875e-02 -3.0533803e-01\n",
      "   9.0225823e-03]\n",
      " [ 3.9414953e-02  3.7051436e-02 -1.1173314e-01 -3.1430315e-02\n",
      "  -2.2508153e-03]\n",
      " [ 2.0110775e-02 -7.7742375e-03  4.2196210e-02  1.2618705e-02\n",
      "  -8.1454450e-03]\n",
      " [-2.7006242e-02  2.1754675e-02 -3.8932430e-04 -3.9496967e-03\n",
      "   2.1897340e-02]\n",
      " [-2.4548974e-02 -5.8385725e-03 -6.9025611e-03  3.6858537e-03\n",
      "   1.2448692e-02]], shape=(5, 5), dtype=float32)\n"
     ]
    }
   ],
   "source": [
    "print(tf.divide(rt,prime_tensor))"
   ]
  },
  {
   "cell_type": "markdown",
   "id": "f391fa8c",
   "metadata": {},
   "source": [
    "#### Pangkat"
   ]
  },
  {
   "cell_type": "code",
   "execution_count": 13,
   "id": "bf6889af",
   "metadata": {},
   "outputs": [
    {
     "name": "stdout",
     "output_type": "stream",
     "text": [
      "tf.Tensor(\n",
      "[[-8.1131822e-01  3.2721055e+00  1.1899876e-06  1.2675557e+03\n",
      "   9.2036214e-12]\n",
      " [ 3.7695045e-04  2.3270212e-04 -1.6284565e+06 -5.7380047e-04\n",
      "  -5.7147351e-32]\n",
      " [ 7.4906757e-07  2.2524138e-20  6.6672814e+11  8.7142099e-12\n",
      "  -2.5211261e-20]\n",
      " [-2.8214794e+09  7.1923875e+05 -0.0000000e+00 -0.0000000e+00\n",
      "   9.6440146e+12]\n",
      " [-1.3542851e+17 -1.2664732e-27  5.3898471e-21  0.0000000e+00\n",
      "   8.4923055e+04]], shape=(5, 5), dtype=float32)\n"
     ]
    }
   ],
   "source": [
    "print(tf.pow(rt, prime_tensor))"
   ]
  },
  {
   "cell_type": "markdown",
   "id": "5193ad95",
   "metadata": {},
   "source": [
    "#### Logaritma"
   ]
  },
  {
   "cell_type": "code",
   "execution_count": 14,
   "id": "8e657012",
   "metadata": {},
   "outputs": [
    {
     "name": "stdout",
     "output_type": "stream",
     "text": [
      "tf.Tensor(\n",
      "[[        nan  0.39514455 -2.7283134          nan -2.3101294 ]\n",
      " [-0.5255598  -0.52285945         nan         nan         nan]\n",
      " [-0.44076362         nan  0.61876476 -0.5659126          nan]\n",
      " [        nan  0.23251635         nan         nan  0.42710513]\n",
      " [        nan         nan         nan -1.1373451   0.12471979]], shape=(5, 5), dtype=float32)\n"
     ]
    }
   ],
   "source": [
    "print(tf.math.log(rt, prime_tensor))"
   ]
  },
  {
   "cell_type": "markdown",
   "id": "0ab65960",
   "metadata": {},
   "source": [
    "## Nilai Max & Min"
   ]
  },
  {
   "cell_type": "markdown",
   "id": "eff7f253",
   "metadata": {},
   "source": [
    "#### Min"
   ]
  },
  {
   "cell_type": "code",
   "execution_count": 15,
   "id": "74a7c987",
   "metadata": {},
   "outputs": [
    {
     "name": "stdout",
     "output_type": "stream",
     "text": [
      "tf.Tensor([4 4 1 0 2], shape=(5,), dtype=int64)\n"
     ]
    }
   ],
   "source": [
    "print(tf.argmin(rt, axis=0))"
   ]
  },
  {
   "cell_type": "code",
   "execution_count": 16,
   "id": "396adc3f",
   "metadata": {},
   "outputs": [
    {
     "name": "stdout",
     "output_type": "stream",
     "text": [
      "tf.Tensor(\n",
      "[[3 0 2 4 1]\n",
      " [2 3 4 0 1]\n",
      " [4 1 3 0 2]\n",
      " [0 3 2 1 4]\n",
      " [0 2 1 3 4]], shape=(5, 5), dtype=int32)\n"
     ]
    }
   ],
   "source": [
    "print(tf.argsort(rt, direction='ASCENDING'))"
   ]
  },
  {
   "cell_type": "code",
   "execution_count": 17,
   "id": "c84c35ef",
   "metadata": {},
   "outputs": [
    {
     "name": "stdout",
     "output_type": "stream",
     "text": [
      "tf.Tensor([3 2 4 0 0], shape=(5,), dtype=int64)\n"
     ]
    }
   ],
   "source": [
    "print(tf.argmin(rt, axis=1))"
   ]
  },
  {
   "cell_type": "code",
   "execution_count": 18,
   "id": "8b9cafa5",
   "metadata": {},
   "outputs": [
    {
     "name": "stdout",
     "output_type": "stream",
     "text": [
      "tf.Tensor(\n",
      "[[-2.4427042  -0.8113182   0.06532937  0.0992484   1.4845988 ]\n",
      " [-2.1229296  -0.72289723 -0.05627038  0.5912243   0.59282297]\n",
      " [-0.3828359  -0.26432407  0.5678417   0.6435448   1.8566332 ]\n",
      " [-1.4853433  -0.2646297  -0.02530608  1.2617711   1.5328138 ]\n",
      " [-1.7429771  -0.56601    -0.43789294  0.32066926  1.132831  ]], shape=(5, 5), dtype=float32)\n"
     ]
    }
   ],
   "source": [
    "print(tf.sort(rt, direction='ASCENDING'))"
   ]
  },
  {
   "cell_type": "markdown",
   "id": "f306b2e0",
   "metadata": {},
   "source": [
    "#### Max"
   ]
  },
  {
   "cell_type": "code",
   "execution_count": 19,
   "id": "5445709e",
   "metadata": {},
   "outputs": [
    {
     "name": "stdout",
     "output_type": "stream",
     "text": [
      "tf.Tensor([2 0 2 2 3], shape=(5,), dtype=int64)\n"
     ]
    }
   ],
   "source": [
    "print(tf.argmax(rt, axis=0))"
   ]
  },
  {
   "cell_type": "code",
   "execution_count": 20,
   "id": "ccb5b87e",
   "metadata": {},
   "outputs": [
    {
     "name": "stdout",
     "output_type": "stream",
     "text": [
      "tf.Tensor(\n",
      "[[3 0 2 4 1]\n",
      " [2 3 4 0 1]\n",
      " [4 1 3 0 2]\n",
      " [0 3 2 1 4]\n",
      " [0 2 1 3 4]], shape=(5, 5), dtype=int32)\n"
     ]
    }
   ],
   "source": [
    "print(tf.argsort(rt, direction='ASCENDING'))"
   ]
  },
  {
   "cell_type": "markdown",
   "id": "4d04a2da",
   "metadata": {},
   "source": [
    "#### Concatenation"
   ]
  },
  {
   "cell_type": "code",
   "execution_count": 21,
   "id": "c4242ba3",
   "metadata": {},
   "outputs": [
    {
     "name": "stdout",
     "output_type": "stream",
     "text": [
      "size original data :  (5, 5) (5, 5)\n",
      "size concat data :  (5, 5)\n"
     ]
    }
   ],
   "source": [
    "print(\"size original data : \",prime_tensor.shape,rt.shape)\n",
    "list_prima_tensor = tf.concat([prime_tensor,rt],axis=0)\n",
    "print(\"size concat data : \",prime_tensor.shape)"
   ]
  },
  {
   "cell_type": "markdown",
   "id": "7b72b261",
   "metadata": {},
   "source": [
    "#### Hasil sorting dari kedua variable di atas. (descending)"
   ]
  },
  {
   "cell_type": "code",
   "execution_count": 22,
   "id": "56292756",
   "metadata": {},
   "outputs": [
    {
     "data": {
      "text/plain": [
       "<tf.Tensor: shape=(5, 5), dtype=float32, numpy=\n",
       "array([[11.,  8.,  5.,  3.,  1.],\n",
       "       [25., 23., 19., 16., 15.],\n",
       "       [47., 45., 44., 34., 32.],\n",
       "       [70., 67., 65., 58., 55.],\n",
       "       [91., 87., 82., 75., 71.]], dtype=float32)>"
      ]
     },
     "execution_count": 22,
     "metadata": {},
     "output_type": "execute_result"
    }
   ],
   "source": [
    "tf.sort(rt, direction=\"DESCENDING\")\n",
    "tf.sort(prime_tensor, direction=\"DESCENDING\")"
   ]
  },
  {
   "cell_type": "code",
   "execution_count": null,
   "id": "f7a8c0b6",
   "metadata": {},
   "outputs": [],
   "source": []
  }
 ],
 "metadata": {
  "kernelspec": {
   "display_name": "Python 3 (ipykernel)",
   "language": "python",
   "name": "python3"
  },
  "language_info": {
   "codemirror_mode": {
    "name": "ipython",
    "version": 3
   },
   "file_extension": ".py",
   "mimetype": "text/x-python",
   "name": "python",
   "nbconvert_exporter": "python",
   "pygments_lexer": "ipython3",
   "version": "3.10.7"
  }
 },
 "nbformat": 4,
 "nbformat_minor": 5
}
